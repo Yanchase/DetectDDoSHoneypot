{
 "cells": [
  {
   "cell_type": "code",
   "execution_count": 3,
   "metadata": {
    "collapsed": true
   },
   "outputs": [],
   "source": [
    "import random"
   ]
  },
  {
   "cell_type": "code",
   "execution_count": 4,
   "outputs": [],
   "source": [
    "f = open('./collect_data.log','r')\n",
    "d = f.readline().strip()\n",
    "data0 = []\n",
    "label0 = []\n",
    "data1 = []\n",
    "label1 = []"
   ],
   "metadata": {
    "collapsed": false,
    "pycharm": {
     "name": "#%%\n"
    }
   }
  },
  {
   "cell_type": "code",
   "execution_count": null,
   "outputs": [],
   "source": [
    "while d:\n",
    "    # 时间 时间 五特征 是否攻击\n",
    "    array_data = d.split()[2:]\n",
    "    # print(array_data)\n",
    "    line = [float(i) for i in array_data]\n",
    "    label = line[-1]\n",
    "    dd = line[:-1]\n",
    "    if label == 0:\n",
    "        data0.append(dd)\n",
    "        label0.append(label)\n",
    "    else:\n",
    "        data1.append(dd)\n",
    "        label1.append(label)\n",
    "        d=f.readline().strip()"
   ],
   "metadata": {
    "collapsed": false,
    "pycharm": {
     "name": "#%%\n",
     "is_executing": true
    }
   }
  },
  {
   "cell_type": "code",
   "execution_count": null,
   "outputs": [],
   "source": [],
   "metadata": {
    "collapsed": false,
    "pycharm": {
     "name": "#%%\n",
     "is_executing": true
    }
   }
  }
 ],
 "metadata": {
  "kernelspec": {
   "display_name": "Python 3",
   "language": "python",
   "name": "python3"
  },
  "language_info": {
   "codemirror_mode": {
    "name": "ipython",
    "version": 2
   },
   "file_extension": ".py",
   "mimetype": "text/x-python",
   "name": "python",
   "nbconvert_exporter": "python",
   "pygments_lexer": "ipython2",
   "version": "2.7.6"
  }
 },
 "nbformat": 4,
 "nbformat_minor": 0
}