{
 "cells": [
  {
   "cell_type": "code",
   "execution_count": 1,
   "outputs": [],
   "source": [
    "import pandas as pd\n",
    "\n",
    "ddos = pd.read_csv(\"Friday-WorkingHours-Afternoon-DDos.pcap_ISCX.csv\")\n",
    "ddos.head()\n",
    "column_names = ddos.columns"
   ],
   "metadata": {
    "collapsed": false,
    "pycharm": {
     "name": "#%%\n"
    }
   }
  },
  {
   "cell_type": "code",
   "execution_count": 2,
   "outputs": [],
   "source": [
    "pd.options.mode.use_inf_as_na = True\n",
    "nan_list = ddos.isnull().sum().tolist()"
   ],
   "metadata": {
    "collapsed": false,
    "pycharm": {
     "name": "#%%\n"
    }
   }
  },
  {
   "cell_type": "code",
   "execution_count": 3,
   "outputs": [
    {
     "data": {
      "text/plain": "[0,\n 0,\n 0,\n 0,\n 0,\n 0,\n 0,\n 0,\n 0,\n 0,\n 0,\n 0,\n 0,\n 0,\n 34,\n 34,\n 0,\n 0,\n 0,\n 0,\n 0,\n 0,\n 0,\n 0,\n 0,\n 0,\n 0,\n 0,\n 0,\n 0,\n 0,\n 0,\n 0,\n 0,\n 0,\n 0,\n 0,\n 0,\n 0,\n 0,\n 0,\n 0,\n 0,\n 0,\n 0,\n 0,\n 0,\n 0,\n 0,\n 0,\n 0,\n 0,\n 0,\n 0,\n 0,\n 0,\n 0,\n 0,\n 0,\n 0,\n 0,\n 0,\n 0,\n 0,\n 0,\n 0,\n 0,\n 0,\n 0,\n 0,\n 0,\n 0,\n 0,\n 0,\n 0,\n 0,\n 0,\n 0,\n 0]"
     },
     "execution_count": 3,
     "metadata": {},
     "output_type": "execute_result"
    }
   ],
   "source": [
    "nan_list"
   ],
   "metadata": {
    "collapsed": false,
    "pycharm": {
     "name": "#%%\n"
    }
   }
  },
  {
   "cell_type": "code",
   "execution_count": 6,
   "outputs": [],
   "source": [
    "ddos.dropna(inplace=True)"
   ],
   "metadata": {
    "collapsed": false,
    "pycharm": {
     "name": "#%%\n"
    }
   }
  },
  {
   "cell_type": "code",
   "execution_count": 7,
   "outputs": [],
   "source": [
    "X = ddos.iloc[:, :-1]\n",
    "Y = ddos.iloc[:, -1]"
   ],
   "metadata": {
    "collapsed": false,
    "pycharm": {
     "name": "#%%\n"
    }
   }
  },
  {
   "cell_type": "code",
   "execution_count": 8,
   "outputs": [
    {
     "data": {
      "text/plain": "RandomForestClassifier(n_estimators=10000, n_jobs=-1, random_state=0)"
     },
     "execution_count": 8,
     "metadata": {},
     "output_type": "execute_result"
    }
   ],
   "source": [
    "import numpy as np\n",
    "from sklearn.ensemble import RandomForestClassifier\n",
    "\n",
    "rm = RandomForestClassifier(n_estimators=10000, random_state=0, n_jobs=-1)\n",
    "rm.fit(X, Y.values.ravel())"
   ],
   "metadata": {
    "collapsed": false,
    "pycharm": {
     "name": "#%%\n"
    }
   }
  },
  {
   "cell_type": "code",
   "execution_count": 9,
   "outputs": [],
   "source": [
    "importances = rm.feature_importances_\n",
    "indices = np.argsort(importances)[::-1]"
   ],
   "metadata": {
    "collapsed": false,
    "pycharm": {
     "name": "#%%\n"
    }
   }
  },
  {
   "cell_type": "code",
   "execution_count": 10,
   "outputs": [
    {
     "data": {
      "text/plain": "array([3.45416843e-02, 1.80981444e-03, 3.24850148e-02, 1.05294158e-02,\n       5.54576508e-02, 8.00527095e-03, 9.59779747e-02, 2.85919695e-03,\n       8.46338881e-02, 2.03885309e-02, 8.95449030e-03, 2.28446935e-02,\n       1.11593082e-02, 1.11899766e-02, 1.38212387e-03, 1.35937739e-03,\n       1.10416152e-03, 6.15849416e-03, 1.60582977e-03, 7.56777644e-04,\n       3.67016757e-02, 1.92540979e-02, 4.18253786e-02, 3.26221690e-02,\n       3.96387969e-03, 6.14997562e-03, 4.50109839e-03, 3.48531935e-03,\n       5.65576411e-03, 6.08912952e-04, 2.82360684e-05, 0.00000000e+00,\n       0.00000000e+00, 0.00000000e+00, 2.93696185e-02, 1.29248206e-02,\n       1.78489339e-03, 5.84672716e-03, 2.43963746e-03, 3.28163551e-03,\n       6.94549532e-03, 4.20447508e-03, 3.72294671e-03, 1.26177364e-04,\n       2.64564524e-05, 2.46208680e-08, 3.88466212e-04, 3.17468891e-04,\n       3.80458202e-03, 0.00000000e+00, 4.29261907e-08, 2.07607332e-03,\n       1.13562134e-02, 8.20582871e-02, 1.12799606e-02, 2.74645674e-02,\n       0.00000000e+00, 0.00000000e+00, 0.00000000e+00, 0.00000000e+00,\n       0.00000000e+00, 0.00000000e+00, 3.01485293e-02, 5.41954435e-02,\n       1.00820858e-02, 9.16725759e-03, 5.04566596e-02, 1.21573055e-02,\n       5.34505003e-02, 2.09009546e-03, 1.37759951e-04, 8.55058071e-05,\n       1.75942365e-04, 1.59088429e-04, 8.52691083e-05, 1.27227687e-05,\n       9.17529476e-05, 8.53293853e-05])"
     },
     "execution_count": 10,
     "metadata": {},
     "output_type": "execute_result"
    }
   ],
   "source": [
    "importances"
   ],
   "metadata": {
    "collapsed": false,
    "pycharm": {
     "name": "#%%\n"
    }
   }
  },
  {
   "cell_type": "code",
   "execution_count": 11,
   "outputs": [
    {
     "data": {
      "text/plain": "array([ 6,  8, 53,  4, 63, 68, 66, 22, 20,  0, 23,  2, 62, 34, 55, 11,  9,\n       21, 35, 67, 52, 54, 13, 12,  3, 64, 65, 10,  5, 40, 17, 25, 37, 28,\n       26, 41, 24, 48, 42, 27, 39,  7, 38, 69, 51,  1, 36, 18, 14, 15, 16,\n       19, 29, 46, 47, 72, 73, 70, 43, 76, 71, 77, 74, 30, 44, 75, 50, 45,\n       33, 57, 58, 59, 60, 61, 49, 31, 32, 56])"
     },
     "execution_count": 11,
     "metadata": {},
     "output_type": "execute_result"
    }
   ],
   "source": [
    "indices"
   ],
   "metadata": {
    "collapsed": false,
    "pycharm": {
     "name": "#%%\n"
    }
   }
  },
  {
   "cell_type": "code",
   "execution_count": 12,
   "outputs": [],
   "source": [
    "imp_result = np.argsort(importances)[::-1][:]"
   ],
   "metadata": {
    "collapsed": false,
    "pycharm": {
     "name": "#%%\n"
    }
   }
  },
  {
   "cell_type": "code",
   "execution_count": 13,
   "outputs": [
    {
     "data": {
      "text/plain": "array([ 6,  8, 53,  4, 63, 68, 66, 22, 20,  0, 23,  2, 62, 34, 55, 11,  9,\n       21, 35, 67, 52, 54, 13, 12,  3, 64, 65, 10,  5, 40, 17, 25, 37, 28,\n       26, 41, 24, 48, 42, 27, 39,  7, 38, 69, 51,  1, 36, 18, 14, 15, 16,\n       19, 29, 46, 47, 72, 73, 70, 43, 76, 71, 77, 74, 30, 44, 75, 50, 45,\n       33, 57, 58, 59, 60, 61, 49, 31, 32, 56])"
     },
     "execution_count": 13,
     "metadata": {},
     "output_type": "execute_result"
    }
   ],
   "source": [
    "imp_result"
   ],
   "metadata": {
    "collapsed": false,
    "pycharm": {
     "name": "#%%\n"
    }
   }
  },
  {
   "cell_type": "code",
   "execution_count": 14,
   "outputs": [],
   "source": [
    "for i in range(5):\n",
    "    yaxi = X.columns[imp_result[1:5]]\n",
    "    xaxi = importances[imp_result[1:5]]"
   ],
   "metadata": {
    "collapsed": false,
    "pycharm": {
     "name": "#%%\n"
    }
   }
  },
  {
   "cell_type": "code",
   "execution_count": 15,
   "outputs": [
    {
     "data": {
      "text/plain": "array([0.08463389, 0.08205829, 0.05545765, 0.05419544])"
     },
     "execution_count": 15,
     "metadata": {},
     "output_type": "execute_result"
    }
   ],
   "source": [
    "importances[imp_result[1:5]]"
   ],
   "metadata": {
    "collapsed": false,
    "pycharm": {
     "name": "#%%\n"
    }
   }
  },
  {
   "cell_type": "markdown",
   "source": [],
   "metadata": {
    "collapsed": false
   }
  },
  {
   "cell_type": "code",
   "execution_count": 16,
   "outputs": [
    {
     "data": {
      "text/plain": "<BarContainer object of 7 artists>"
     },
     "execution_count": 16,
     "metadata": {},
     "output_type": "execute_result"
    },
    {
     "data": {
      "text/plain": "<Figure size 432x288 with 1 Axes>",
      "image/png": "[encoded data removed]"
     },
     "metadata": {
      "needs_background": "light"
     },
     "output_type": "display_data"
    }
   ],
   "source": [
    "from matplotlib import pyplot as plt\n",
    "\n",
    "plt.barh(X.columns[imp_result[0:7]], importances[imp_result[0:7]])"
   ],
   "metadata": {
    "collapsed": false,
    "pycharm": {
     "name": "#%%\n"
    }
   }
  },
  {
   "cell_type": "code",
   "execution_count": null,
   "outputs": [],
   "source": [],
   "metadata": {
    "collapsed": false,
    "pycharm": {
     "name": "#%%\n"
    }
   }
  }
 ],
 "metadata": {
  "kernelspec": {
   "display_name": "Python 3",
   "language": "python",
   "name": "python3"
  },
  "language_info": {
   "codemirror_mode": {
    "name": "ipython",
    "version": 2
   },
   "file_extension": ".py",
   "mimetype": "text/x-python",
   "name": "python",
   "nbconvert_exporter": "python",
   "pygments_lexer": "ipython2",
   "version": "2.7.6"
  }
 },
 "nbformat": 4,
 "nbformat_minor": 0
}