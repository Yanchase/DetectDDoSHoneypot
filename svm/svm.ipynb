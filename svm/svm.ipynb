{
 "cells": [
  {
   "cell_type": "code",
   "execution_count": 2,
   "metadata": {
    "collapsed": true
   },
   "outputs": [],
   "source": [
    "import datetime\n",
    "\n",
    "import pandas as pd"
   ]
  },
  {
   "cell_type": "code",
   "execution_count": 4,
   "outputs": [],
   "source": [
    "ddos = pd.read_csv(\"Friday-WorkingHours-Afternoon-DDos.pcap_ISCX.csv\")"
   ],
   "metadata": {
    "collapsed": false,
    "pycharm": {
     "name": "#%%\n"
    }
   }
  },
  {
   "cell_type": "code",
   "execution_count": 5,
   "outputs": [
    {
     "data": {
      "text/plain": "    Destination Port   Flow Duration   Total Fwd Packets  \\\n0              54865               3                   2   \n1              55054             109                   1   \n2              55055              52                   1   \n3              46236              34                   1   \n4              54863               3                   2   \n\n    Total Backward Packets  Total Length of Fwd Packets  \\\n0                        0                           12   \n1                        1                            6   \n2                        1                            6   \n3                        1                            6   \n4                        0                           12   \n\n    Total Length of Bwd Packets   Fwd Packet Length Max  \\\n0                             0                       6   \n1                             6                       6   \n2                             6                       6   \n3                             6                       6   \n4                             0                       6   \n\n    Fwd Packet Length Min   Fwd Packet Length Mean   Fwd Packet Length Std  \\\n0                       6                      6.0                     0.0   \n1                       6                      6.0                     0.0   \n2                       6                      6.0                     0.0   \n3                       6                      6.0                     0.0   \n4                       6                      6.0                     0.0   \n\n   ...   min_seg_size_forward  Active Mean   Active Std   Active Max  \\\n0  ...                     20          0.0          0.0            0   \n1  ...                     20          0.0          0.0            0   \n2  ...                     20          0.0          0.0            0   \n3  ...                     20          0.0          0.0            0   \n4  ...                     20          0.0          0.0            0   \n\n    Active Min  Idle Mean   Idle Std   Idle Max   Idle Min   Label  \n0            0        0.0        0.0          0          0  BENIGN  \n1            0        0.0        0.0          0          0  BENIGN  \n2            0        0.0        0.0          0          0  BENIGN  \n3            0        0.0        0.0          0          0  BENIGN  \n4            0        0.0        0.0          0          0  BENIGN  \n\n[5 rows x 79 columns]",
      "text/html": "<div>\n<style scoped>\n    .dataframe tbody tr th:only-of-type {\n        vertical-align: middle;\n    }\n\n    .dataframe tbody tr th {\n        vertical-align: top;\n    }\n\n    .dataframe thead th {\n        text-align: right;\n    }\n</style>\n<table border=\"1\" class=\"dataframe\">\n  <thead>\n    <tr style=\"text-align: right;\">\n      <th></th>\n      <th>Destination Port</th>\n      <th>Flow Duration</th>\n      <th>Total Fwd Packets</th>\n      <th>Total Backward Packets</th>\n      <th>Total Length of Fwd Packets</th>\n      <th>Total Length of Bwd Packets</th>\n      <th>Fwd Packet Length Max</th>\n      <th>Fwd Packet Length Min</th>\n      <th>Fwd Packet Length Mean</th>\n      <th>Fwd Packet Length Std</th>\n      <th>...</th>\n      <th>min_seg_size_forward</th>\n      <th>Active Mean</th>\n      <th>Active Std</th>\n      <th>Active Max</th>\n      <th>Active Min</th>\n      <th>Idle Mean</th>\n      <th>Idle Std</th>\n      <th>Idle Max</th>\n      <th>Idle Min</th>\n      <th>Label</th>\n    </tr>\n  </thead>\n  <tbody>\n    <tr>\n      <th>0</th>\n      <td>54865</td>\n      <td>3</td>\n      <td>2</td>\n      <td>0</td>\n      <td>12</td>\n      <td>0</td>\n      <td>6</td>\n      <td>6</td>\n      <td>6.0</td>\n      <td>0.0</td>\n      <td>...</td>\n      <td>20</td>\n      <td>0.0</td>\n      <td>0.0</td>\n      <td>0</td>\n      <td>0</td>\n      <td>0.0</td>\n      <td>0.0</td>\n      <td>0</td>\n      <td>0</td>\n      <td>BENIGN</td>\n    </tr>\n    <tr>\n      <th>1</th>\n      <td>55054</td>\n      <td>109</td>\n      <td>1</td>\n      <td>1</td>\n      <td>6</td>\n      <td>6</td>\n      <td>6</td>\n      <td>6</td>\n      <td>6.0</td>\n      <td>0.0</td>\n      <td>...</td>\n      <td>20</td>\n      <td>0.0</td>\n      <td>0.0</td>\n      <td>0</td>\n      <td>0</td>\n      <td>0.0</td>\n      <td>0.0</td>\n      <td>0</td>\n      <td>0</td>\n      <td>BENIGN</td>\n    </tr>\n    <tr>\n      <th>2</th>\n      <td>55055</td>\n      <td>52</td>\n      <td>1</td>\n      <td>1</td>\n      <td>6</td>\n      <td>6</td>\n      <td>6</td>\n      <td>6</td>\n      <td>6.0</td>\n      <td>0.0</td>\n      <td>...</td>\n      <td>20</td>\n      <td>0.0</td>\n      <td>0.0</td>\n      <td>0</td>\n      <td>0</td>\n      <td>0.0</td>\n      <td>0.0</td>\n      <td>0</td>\n      <td>0</td>\n      <td>BENIGN</td>\n    </tr>\n    <tr>\n      <th>3</th>\n      <td>46236</td>\n      <td>34</td>\n      <td>1</td>\n      <td>1</td>\n      <td>6</td>\n      <td>6</td>\n      <td>6</td>\n      <td>6</td>\n      <td>6.0</td>\n      <td>0.0</td>\n      <td>...</td>\n      <td>20</td>\n      <td>0.0</td>\n      <td>0.0</td>\n      <td>0</td>\n      <td>0</td>\n      <td>0.0</td>\n      <td>0.0</td>\n      <td>0</td>\n      <td>0</td>\n      <td>BENIGN</td>\n    </tr>\n    <tr>\n      <th>4</th>\n      <td>54863</td>\n      <td>3</td>\n      <td>2</td>\n      <td>0</td>\n      <td>12</td>\n      <td>0</td>\n      <td>6</td>\n      <td>6</td>\n      <td>6.0</td>\n      <td>0.0</td>\n      <td>...</td>\n      <td>20</td>\n      <td>0.0</td>\n      <td>0.0</td>\n      <td>0</td>\n      <td>0</td>\n      <td>0.0</td>\n      <td>0.0</td>\n      <td>0</td>\n      <td>0</td>\n      <td>BENIGN</td>\n    </tr>\n  </tbody>\n</table>\n<p>5 rows × 79 columns</p>\n</div>"
     },
     "execution_count": 5,
     "metadata": {},
     "output_type": "execute_result"
    }
   ],
   "source": [
    "ddos.head()"
   ],
   "metadata": {
    "collapsed": false,
    "pycharm": {
     "name": "#%%\n"
    }
   }
  },
  {
   "cell_type": "code",
   "execution_count": 6,
   "outputs": [],
   "source": [
    "pd.options.mode.use_inf_as_na = True\n",
    "nan_list = ddos.isnull().sum().tolist()\n",
    "ddos.dropna(inplace=True)"
   ],
   "metadata": {
    "collapsed": false,
    "pycharm": {
     "name": "#%%\n"
    }
   }
  },
  {
   "cell_type": "code",
   "execution_count": 8,
   "outputs": [
    {
     "data": {
      "text/plain": "[0,\n 0,\n 0,\n 0,\n 0,\n 0,\n 0,\n 0,\n 0,\n 0,\n 0,\n 0,\n 0,\n 0,\n 34,\n 34,\n 0,\n 0,\n 0,\n 0,\n 0,\n 0,\n 0,\n 0,\n 0,\n 0,\n 0,\n 0,\n 0,\n 0,\n 0,\n 0,\n 0,\n 0,\n 0,\n 0,\n 0,\n 0,\n 0,\n 0,\n 0,\n 0,\n 0,\n 0,\n 0,\n 0,\n 0,\n 0,\n 0,\n 0,\n 0,\n 0,\n 0,\n 0,\n 0,\n 0,\n 0,\n 0,\n 0,\n 0,\n 0,\n 0,\n 0,\n 0,\n 0,\n 0,\n 0,\n 0,\n 0,\n 0,\n 0,\n 0,\n 0,\n 0,\n 0,\n 0,\n 0,\n 0,\n 0]"
     },
     "execution_count": 8,
     "metadata": {},
     "output_type": "execute_result"
    }
   ],
   "source": [
    "nan_list"
   ],
   "metadata": {
    "collapsed": false,
    "pycharm": {
     "name": "#%%\n"
    }
   }
  },
  {
   "cell_type": "code",
   "execution_count": 9,
   "outputs": [
    {
     "data": {
      "text/plain": "        Destination Port   Flow Duration   Total Fwd Packets  \\\ncount      225711.000000    2.257110e+05       225711.000000   \nmean         8876.556769    1.624410e+07            4.875389   \nstd         19752.018851    3.152612e+07           15.423986   \nmin             0.000000   -1.000000e+00            1.000000   \n25%            80.000000    7.123800e+04            2.000000   \n50%            80.000000    1.453164e+06            3.000000   \n75%            80.000000    8.806652e+06            5.000000   \nmax         65532.000000    1.199999e+08         1932.000000   \n\n        Total Backward Packets  Total Length of Fwd Packets  \\\ncount            225711.000000                225711.000000   \nmean                  4.573424                   939.603147   \nstd                  21.756929                  3249.628245   \nmin                   0.000000                     0.000000   \n25%                   1.000000                    26.000000   \n50%                   4.000000                    30.000000   \n75%                   5.000000                    64.000000   \nmax                2942.000000                183012.000000   \n\n        Total Length of Bwd Packets   Fwd Packet Length Max  \\\ncount                  2.257110e+05           225711.000000   \nmean                   5.961369e+03              538.615499   \nstd                    3.922122e+04             1864.258043   \nmin                    0.000000e+00                0.000000   \n25%                    0.000000e+00                6.000000   \n50%                    1.640000e+02               20.000000   \n75%                    1.160100e+04               34.000000   \nmax                    5.172346e+06            11680.000000   \n\n        Fwd Packet Length Min   Fwd Packet Length Mean  \\\ncount           225711.000000            225711.000000   \nmean                27.885810               164.850580   \nstd                163.336194               504.927243   \nmin                  0.000000                 0.000000   \n25%                  0.000000                 6.000000   \n50%                  0.000000                 8.666667   \n75%                  6.000000                32.000000   \nmax               1472.000000              3867.000000   \n\n        Fwd Packet Length Std  ...   act_data_pkt_fwd   min_seg_size_forward  \\\ncount           225711.000000  ...       225711.00000          225711.000000   \nmean               214.939117  ...            3.31193              21.482338   \nstd                797.466898  ...           12.27089               4.166228   \nmin                  0.000000  ...            0.00000               0.000000   \n25%                  0.000000  ...            1.00000              20.000000   \n50%                  5.301991  ...            2.00000              20.000000   \n75%                 10.263203  ...            4.00000              20.000000   \nmax               6692.644993  ...         1931.00000              52.000000   \n\n        Active Mean    Active Std    Active Max    Active Min     Idle Mean  \\\ncount  2.257110e+05  2.257110e+05  2.257110e+05  2.257110e+05  2.257110e+05   \nmean   1.848539e+05  1.293631e+04  2.081162e+05  1.776468e+05  1.032370e+07   \nstd    7.979819e+05  2.102894e+05  9.002992e+05  7.843163e+05  2.185431e+07   \nmin    0.000000e+00  0.000000e+00  0.000000e+00  0.000000e+00  0.000000e+00   \n25%    0.000000e+00  0.000000e+00  0.000000e+00  0.000000e+00  0.000000e+00   \n50%    0.000000e+00  0.000000e+00  0.000000e+00  0.000000e+00  0.000000e+00   \n75%    1.879000e+03  0.000000e+00  1.879000e+03  1.863000e+03  8.241416e+06   \nmax    1.000000e+08  3.950000e+07  1.000000e+08  1.000000e+08  1.200000e+08   \n\n           Idle Std      Idle Max      Idle Min  \ncount  2.257110e+05  2.257110e+05  2.257110e+05  \nmean   3.612487e+06  1.288007e+07  7.756523e+06  \nstd    1.275778e+07  2.692283e+07  1.983236e+07  \nmin    0.000000e+00  0.000000e+00  0.000000e+00  \n25%    0.000000e+00  0.000000e+00  0.000000e+00  \n50%    0.000000e+00  0.000000e+00  0.000000e+00  \n75%    0.000000e+00  8.254452e+06  7.423865e+06  \nmax    6.530000e+07  1.200000e+08  1.200000e+08  \n\n[8 rows x 78 columns]",
      "text/html": "<div>\n<style scoped>\n    .dataframe tbody tr th:only-of-type {\n        vertical-align: middle;\n    }\n\n    .dataframe tbody tr th {\n        vertical-align: top;\n    }\n\n    .dataframe thead th {\n        text-align: right;\n    }\n</style>\n<table border=\"1\" class=\"dataframe\">\n  <thead>\n    <tr style=\"text-align: right;\">\n      <th></th>\n      <th>Destination Port</th>\n      <th>Flow Duration</th>\n      <th>Total Fwd Packets</th>\n      <th>Total Backward Packets</th>\n      <th>Total Length of Fwd Packets</th>\n      <th>Total Length of Bwd Packets</th>\n      <th>Fwd Packet Length Max</th>\n      <th>Fwd Packet Length Min</th>\n      <th>Fwd Packet Length Mean</th>\n      <th>Fwd Packet Length Std</th>\n      <th>...</th>\n      <th>act_data_pkt_fwd</th>\n      <th>min_seg_size_forward</th>\n      <th>Active Mean</th>\n      <th>Active Std</th>\n      <th>Active Max</th>\n      <th>Active Min</th>\n      <th>Idle Mean</th>\n      <th>Idle Std</th>\n      <th>Idle Max</th>\n      <th>Idle Min</th>\n    </tr>\n  </thead>\n  <tbody>\n    <tr>\n      <th>count</th>\n      <td>225711.000000</td>\n      <td>2.257110e+05</td>\n      <td>225711.000000</td>\n      <td>225711.000000</td>\n      <td>225711.000000</td>\n      <td>2.257110e+05</td>\n      <td>225711.000000</td>\n      <td>225711.000000</td>\n      <td>225711.000000</td>\n      <td>225711.000000</td>\n      <td>...</td>\n      <td>225711.00000</td>\n      <td>225711.000000</td>\n      <td>2.257110e+05</td>\n      <td>2.257110e+05</td>\n      <td>2.257110e+05</td>\n      <td>2.257110e+05</td>\n      <td>2.257110e+05</td>\n      <td>2.257110e+05</td>\n      <td>2.257110e+05</td>\n      <td>2.257110e+05</td>\n    </tr>\n    <tr>\n      <th>mean</th>\n      <td>8876.556769</td>\n      <td>1.624410e+07</td>\n      <td>4.875389</td>\n      <td>4.573424</td>\n      <td>939.603147</td>\n      <td>5.961369e+03</td>\n      <td>538.615499</td>\n      <td>27.885810</td>\n      <td>164.850580</td>\n      <td>214.939117</td>\n      <td>...</td>\n      <td>3.31193</td>\n      <td>21.482338</td>\n      <td>1.848539e+05</td>\n      <td>1.293631e+04</td>\n      <td>2.081162e+05</td>\n      <td>1.776468e+05</td>\n      <td>1.032370e+07</td>\n      <td>3.612487e+06</td>\n      <td>1.288007e+07</td>\n      <td>7.756523e+06</td>\n    </tr>\n    <tr>\n      <th>std</th>\n      <td>19752.018851</td>\n      <td>3.152612e+07</td>\n      <td>15.423986</td>\n      <td>21.756929</td>\n      <td>3249.628245</td>\n      <td>3.922122e+04</td>\n      <td>1864.258043</td>\n      <td>163.336194</td>\n      <td>504.927243</td>\n      <td>797.466898</td>\n      <td>...</td>\n      <td>12.27089</td>\n      <td>4.166228</td>\n      <td>7.979819e+05</td>\n      <td>2.102894e+05</td>\n      <td>9.002992e+05</td>\n      <td>7.843163e+05</td>\n      <td>2.185431e+07</td>\n      <td>1.275778e+07</td>\n      <td>2.692283e+07</td>\n      <td>1.983236e+07</td>\n    </tr>\n    <tr>\n      <th>min</th>\n      <td>0.000000</td>\n      <td>-1.000000e+00</td>\n      <td>1.000000</td>\n      <td>0.000000</td>\n      <td>0.000000</td>\n      <td>0.000000e+00</td>\n      <td>0.000000</td>\n      <td>0.000000</td>\n      <td>0.000000</td>\n      <td>0.000000</td>\n      <td>...</td>\n      <td>0.00000</td>\n      <td>0.000000</td>\n      <td>0.000000e+00</td>\n      <td>0.000000e+00</td>\n      <td>0.000000e+00</td>\n      <td>0.000000e+00</td>\n      <td>0.000000e+00</td>\n      <td>0.000000e+00</td>\n      <td>0.000000e+00</td>\n      <td>0.000000e+00</td>\n    </tr>\n    <tr>\n      <th>25%</th>\n      <td>80.000000</td>\n      <td>7.123800e+04</td>\n      <td>2.000000</td>\n      <td>1.000000</td>\n      <td>26.000000</td>\n      <td>0.000000e+00</td>\n      <td>6.000000</td>\n      <td>0.000000</td>\n      <td>6.000000</td>\n      <td>0.000000</td>\n      <td>...</td>\n      <td>1.00000</td>\n      <td>20.000000</td>\n      <td>0.000000e+00</td>\n      <td>0.000000e+00</td>\n      <td>0.000000e+00</td>\n      <td>0.000000e+00</td>\n      <td>0.000000e+00</td>\n      <td>0.000000e+00</td>\n      <td>0.000000e+00</td>\n      <td>0.000000e+00</td>\n    </tr>\n    <tr>\n      <th>50%</th>\n      <td>80.000000</td>\n      <td>1.453164e+06</td>\n      <td>3.000000</td>\n      <td>4.000000</td>\n      <td>30.000000</td>\n      <td>1.640000e+02</td>\n      <td>20.000000</td>\n      <td>0.000000</td>\n      <td>8.666667</td>\n      <td>5.301991</td>\n      <td>...</td>\n      <td>2.00000</td>\n      <td>20.000000</td>\n      <td>0.000000e+00</td>\n      <td>0.000000e+00</td>\n      <td>0.000000e+00</td>\n      <td>0.000000e+00</td>\n      <td>0.000000e+00</td>\n      <td>0.000000e+00</td>\n      <td>0.000000e+00</td>\n      <td>0.000000e+00</td>\n    </tr>\n    <tr>\n      <th>75%</th>\n      <td>80.000000</td>\n      <td>8.806652e+06</td>\n      <td>5.000000</td>\n      <td>5.000000</td>\n      <td>64.000000</td>\n      <td>1.160100e+04</td>\n      <td>34.000000</td>\n      <td>6.000000</td>\n      <td>32.000000</td>\n      <td>10.263203</td>\n      <td>...</td>\n      <td>4.00000</td>\n      <td>20.000000</td>\n      <td>1.879000e+03</td>\n      <td>0.000000e+00</td>\n      <td>1.879000e+03</td>\n      <td>1.863000e+03</td>\n      <td>8.241416e+06</td>\n      <td>0.000000e+00</td>\n      <td>8.254452e+06</td>\n      <td>7.423865e+06</td>\n    </tr>\n    <tr>\n      <th>max</th>\n      <td>65532.000000</td>\n      <td>1.199999e+08</td>\n      <td>1932.000000</td>\n      <td>2942.000000</td>\n      <td>183012.000000</td>\n      <td>5.172346e+06</td>\n      <td>11680.000000</td>\n      <td>1472.000000</td>\n      <td>3867.000000</td>\n      <td>6692.644993</td>\n      <td>...</td>\n      <td>1931.00000</td>\n      <td>52.000000</td>\n      <td>1.000000e+08</td>\n      <td>3.950000e+07</td>\n      <td>1.000000e+08</td>\n      <td>1.000000e+08</td>\n      <td>1.200000e+08</td>\n      <td>6.530000e+07</td>\n      <td>1.200000e+08</td>\n      <td>1.200000e+08</td>\n    </tr>\n  </tbody>\n</table>\n<p>8 rows × 78 columns</p>\n</div>"
     },
     "execution_count": 9,
     "metadata": {},
     "output_type": "execute_result"
    }
   ],
   "source": [
    "ddos.describe()"
   ],
   "metadata": {
    "collapsed": false,
    "pycharm": {
     "name": "#%%\n"
    }
   }
  },
  {
   "cell_type": "code",
   "execution_count": null,
   "outputs": [],
   "source": [],
   "metadata": {
    "collapsed": false,
    "pycharm": {
     "name": "#%%\n"
    }
   }
  },
  {
   "cell_type": "code",
   "execution_count": 6,
   "outputs": [],
   "source": [
    "X = ddos.iloc[:, :-1]\n",
    "Y = ddos.iloc[:, -1]"
   ],
   "metadata": {
    "collapsed": false,
    "pycharm": {
     "name": "#%%\n"
    }
   }
  },
  {
   "cell_type": "code",
   "execution_count": 7,
   "outputs": [],
   "source": [
    "from sklearn.model_selection import train_test_split\n",
    "\n",
    "x_train, x_test, y_train, y_test = train_test_split(X, Y, test_size=0.2, random_state=0)"
   ],
   "metadata": {
    "collapsed": false,
    "pycharm": {
     "name": "#%%\n"
    }
   }
  },
  {
   "cell_type": "code",
   "execution_count": 8,
   "outputs": [],
   "source": [
    "for i in [x_train, x_test, y_train, y_test]:\n",
    "    i.index = range(i.shape[0])"
   ],
   "metadata": {
    "collapsed": false,
    "pycharm": {
     "name": "#%%\n"
    }
   }
  },
  {
   "cell_type": "code",
   "execution_count": 9,
   "outputs": [],
   "source": [
    "from sklearn.preprocessing import LabelEncoder\n",
    "\n",
    "encoder = LabelEncoder().fit(y_train)\n",
    "y_train = pd.DataFrame(encoder.transform(y_train))\n",
    "y_test = pd.DataFrame(encoder.transform(y_test))"
   ],
   "metadata": {
    "collapsed": false,
    "pycharm": {
     "name": "#%%\n"
    }
   }
  },
  {
   "cell_type": "code",
   "execution_count": 10,
   "outputs": [
    {
     "data": {
      "text/plain": "         Destination Port   Flow Duration   Total Fwd Packets  \\\n0                      80         4427804                   4   \n1                      80          123238                   3   \n2                      80          678853                   3   \n3                      80         7900801                   4   \n4                     443          397687                  11   \n...                   ...             ...                 ...   \n180563              60845         3286403                   1   \n180564                 80          591415                   3   \n180565                 53             215                   2   \n180566                 80          599879                   3   \n180567                 53          160076                   4   \n\n         Total Backward Packets  Total Length of Fwd Packets  \\\n0                             0                           24   \n1                             4                           26   \n2                             6                           26   \n3                             0                           24   \n4                             8                          510   \n...                         ...                          ...   \n180563                        5                            6   \n180564                        5                           26   \n180565                        2                           66   \n180566                        4                           26   \n180567                        2                          120   \n\n         Total Length of Bwd Packets   Fwd Packet Length Max  \\\n0                                  0                       6   \n1                              11601                      20   \n2                              11601                      20   \n3                                  0                       6   \n4                               4478                     206   \n...                              ...                     ...   \n180563                            30                       6   \n180564                         11607                      20   \n180565                            98                      33   \n180566                         11607                      20   \n180567                           182                      30   \n\n         Fwd Packet Length Min   Fwd Packet Length Mean  \\\n0                            6                 6.000000   \n1                            0                 8.666667   \n2                            0                 8.666667   \n3                            6                 6.000000   \n4                            0                46.363636   \n...                        ...                      ...   \n180563                       6                 6.000000   \n180564                       0                 8.666667   \n180565                      33                33.000000   \n180566                       0                 8.666667   \n180567                      30                30.000000   \n\n         Fwd Packet Length Std  ...   act_data_pkt_fwd   min_seg_size_forward  \\\n0                     0.000000  ...                  3                     20   \n1                    10.263203  ...                  2                     20   \n2                    10.263203  ...                  2                     20   \n3                     0.000000  ...                  3                     20   \n4                    77.974705  ...                  4                     32   \n...                        ...  ...                ...                    ...   \n180563                0.000000  ...                  0                     20   \n180564               10.263203  ...                  2                     20   \n180565                0.000000  ...                  1                     32   \n180566               10.263203  ...                  2                     20   \n180567                0.000000  ...                  3                     20   \n\n        Active Mean   Active Std   Active Max   Active Min  Idle Mean  \\\n0               0.0          0.0            0            0        0.0   \n1               0.0          0.0            0            0        0.0   \n2               0.0          0.0            0            0        0.0   \n3             995.0          0.0          995          995  7899806.0   \n4               0.0          0.0            0            0        0.0   \n...             ...          ...          ...          ...        ...   \n180563          0.0          0.0            0            0        0.0   \n180564          0.0          0.0            0            0        0.0   \n180565          0.0          0.0            0            0        0.0   \n180566          0.0          0.0            0            0        0.0   \n180567          0.0          0.0            0            0        0.0   \n\n         Idle Std   Idle Max   Idle Min  \n0             0.0          0          0  \n1             0.0          0          0  \n2             0.0          0          0  \n3             0.0    7899806    7899806  \n4             0.0          0          0  \n...           ...        ...        ...  \n180563        0.0          0          0  \n180564        0.0          0          0  \n180565        0.0          0          0  \n180566        0.0          0          0  \n180567        0.0          0          0  \n\n[180568 rows x 78 columns]",
      "text/html": "<div>\n<style scoped>\n    .dataframe tbody tr th:only-of-type {\n        vertical-align: middle;\n    }\n\n    .dataframe tbody tr th {\n        vertical-align: top;\n    }\n\n    .dataframe thead th {\n        text-align: right;\n    }\n</style>\n<table border=\"1\" class=\"dataframe\">\n  <thead>\n    <tr style=\"text-align: right;\">\n      <th></th>\n      <th>Destination Port</th>\n      <th>Flow Duration</th>\n      <th>Total Fwd Packets</th>\n      <th>Total Backward Packets</th>\n      <th>Total Length of Fwd Packets</th>\n      <th>Total Length of Bwd Packets</th>\n      <th>Fwd Packet Length Max</th>\n      <th>Fwd Packet Length Min</th>\n      <th>Fwd Packet Length Mean</th>\n      <th>Fwd Packet Length Std</th>\n      <th>...</th>\n      <th>act_data_pkt_fwd</th>\n      <th>min_seg_size_forward</th>\n      <th>Active Mean</th>\n      <th>Active Std</th>\n      <th>Active Max</th>\n      <th>Active Min</th>\n      <th>Idle Mean</th>\n      <th>Idle Std</th>\n      <th>Idle Max</th>\n      <th>Idle Min</th>\n    </tr>\n  </thead>\n  <tbody>\n    <tr>\n      <th>0</th>\n      <td>80</td>\n      <td>4427804</td>\n      <td>4</td>\n      <td>0</td>\n      <td>24</td>\n      <td>0</td>\n      <td>6</td>\n      <td>6</td>\n      <td>6.000000</td>\n      <td>0.000000</td>\n      <td>...</td>\n      <td>3</td>\n      <td>20</td>\n      <td>0.0</td>\n      <td>0.0</td>\n      <td>0</td>\n      <td>0</td>\n      <td>0.0</td>\n      <td>0.0</td>\n      <td>0</td>\n      <td>0</td>\n    </tr>\n    <tr>\n      <th>1</th>\n      <td>80</td>\n      <td>123238</td>\n      <td>3</td>\n      <td>4</td>\n      <td>26</td>\n      <td>11601</td>\n      <td>20</td>\n      <td>0</td>\n      <td>8.666667</td>\n      <td>10.263203</td>\n      <td>...</td>\n      <td>2</td>\n      <td>20</td>\n      <td>0.0</td>\n      <td>0.0</td>\n      <td>0</td>\n      <td>0</td>\n      <td>0.0</td>\n      <td>0.0</td>\n      <td>0</td>\n      <td>0</td>\n    </tr>\n    <tr>\n      <th>2</th>\n      <td>80</td>\n      <td>678853</td>\n      <td>3</td>\n      <td>6</td>\n      <td>26</td>\n      <td>11601</td>\n      <td>20</td>\n      <td>0</td>\n      <td>8.666667</td>\n      <td>10.263203</td>\n      <td>...</td>\n      <td>2</td>\n      <td>20</td>\n      <td>0.0</td>\n      <td>0.0</td>\n      <td>0</td>\n      <td>0</td>\n      <td>0.0</td>\n      <td>0.0</td>\n      <td>0</td>\n      <td>0</td>\n    </tr>\n    <tr>\n      <th>3</th>\n      <td>80</td>\n      <td>7900801</td>\n      <td>4</td>\n      <td>0</td>\n      <td>24</td>\n      <td>0</td>\n      <td>6</td>\n      <td>6</td>\n      <td>6.000000</td>\n      <td>0.000000</td>\n      <td>...</td>\n      <td>3</td>\n      <td>20</td>\n      <td>995.0</td>\n      <td>0.0</td>\n      <td>995</td>\n      <td>995</td>\n      <td>7899806.0</td>\n      <td>0.0</td>\n      <td>7899806</td>\n      <td>7899806</td>\n    </tr>\n    <tr>\n      <th>4</th>\n      <td>443</td>\n      <td>397687</td>\n      <td>11</td>\n      <td>8</td>\n      <td>510</td>\n      <td>4478</td>\n      <td>206</td>\n      <td>0</td>\n      <td>46.363636</td>\n      <td>77.974705</td>\n      <td>...</td>\n      <td>4</td>\n      <td>32</td>\n      <td>0.0</td>\n      <td>0.0</td>\n      <td>0</td>\n      <td>0</td>\n      <td>0.0</td>\n      <td>0.0</td>\n      <td>0</td>\n      <td>0</td>\n    </tr>\n    <tr>\n      <th>...</th>\n      <td>...</td>\n      <td>...</td>\n      <td>...</td>\n      <td>...</td>\n      <td>...</td>\n      <td>...</td>\n      <td>...</td>\n      <td>...</td>\n      <td>...</td>\n      <td>...</td>\n      <td>...</td>\n      <td>...</td>\n      <td>...</td>\n      <td>...</td>\n      <td>...</td>\n      <td>...</td>\n      <td>...</td>\n      <td>...</td>\n      <td>...</td>\n      <td>...</td>\n      <td>...</td>\n    </tr>\n    <tr>\n      <th>180563</th>\n      <td>60845</td>\n      <td>3286403</td>\n      <td>1</td>\n      <td>5</td>\n      <td>6</td>\n      <td>30</td>\n      <td>6</td>\n      <td>6</td>\n      <td>6.000000</td>\n      <td>0.000000</td>\n      <td>...</td>\n      <td>0</td>\n      <td>20</td>\n      <td>0.0</td>\n      <td>0.0</td>\n      <td>0</td>\n      <td>0</td>\n      <td>0.0</td>\n      <td>0.0</td>\n      <td>0</td>\n      <td>0</td>\n    </tr>\n    <tr>\n      <th>180564</th>\n      <td>80</td>\n      <td>591415</td>\n      <td>3</td>\n      <td>5</td>\n      <td>26</td>\n      <td>11607</td>\n      <td>20</td>\n      <td>0</td>\n      <td>8.666667</td>\n      <td>10.263203</td>\n      <td>...</td>\n      <td>2</td>\n      <td>20</td>\n      <td>0.0</td>\n      <td>0.0</td>\n      <td>0</td>\n      <td>0</td>\n      <td>0.0</td>\n      <td>0.0</td>\n      <td>0</td>\n      <td>0</td>\n    </tr>\n    <tr>\n      <th>180565</th>\n      <td>53</td>\n      <td>215</td>\n      <td>2</td>\n      <td>2</td>\n      <td>66</td>\n      <td>98</td>\n      <td>33</td>\n      <td>33</td>\n      <td>33.000000</td>\n      <td>0.000000</td>\n      <td>...</td>\n      <td>1</td>\n      <td>32</td>\n      <td>0.0</td>\n      <td>0.0</td>\n      <td>0</td>\n      <td>0</td>\n      <td>0.0</td>\n      <td>0.0</td>\n      <td>0</td>\n      <td>0</td>\n    </tr>\n    <tr>\n      <th>180566</th>\n      <td>80</td>\n      <td>599879</td>\n      <td>3</td>\n      <td>4</td>\n      <td>26</td>\n      <td>11607</td>\n      <td>20</td>\n      <td>0</td>\n      <td>8.666667</td>\n      <td>10.263203</td>\n      <td>...</td>\n      <td>2</td>\n      <td>20</td>\n      <td>0.0</td>\n      <td>0.0</td>\n      <td>0</td>\n      <td>0</td>\n      <td>0.0</td>\n      <td>0.0</td>\n      <td>0</td>\n      <td>0</td>\n    </tr>\n    <tr>\n      <th>180567</th>\n      <td>53</td>\n      <td>160076</td>\n      <td>4</td>\n      <td>2</td>\n      <td>120</td>\n      <td>182</td>\n      <td>30</td>\n      <td>30</td>\n      <td>30.000000</td>\n      <td>0.000000</td>\n      <td>...</td>\n      <td>3</td>\n      <td>20</td>\n      <td>0.0</td>\n      <td>0.0</td>\n      <td>0</td>\n      <td>0</td>\n      <td>0.0</td>\n      <td>0.0</td>\n      <td>0</td>\n      <td>0</td>\n    </tr>\n  </tbody>\n</table>\n<p>180568 rows × 78 columns</p>\n</div>"
     },
     "execution_count": 10,
     "metadata": {},
     "output_type": "execute_result"
    }
   ],
   "source": [
    "x_train"
   ],
   "metadata": {
    "collapsed": false,
    "pycharm": {
     "name": "#%%\n"
    }
   }
  },
  {
   "cell_type": "code",
   "execution_count": null,
   "outputs": [],
   "source": [
    "x_train.describe()"
   ],
   "metadata": {
    "collapsed": false,
    "pycharm": {
     "name": "#%%\n",
     "is_executing": true
    }
   }
  },
  {
   "cell_type": "code",
   "execution_count": null,
   "outputs": [],
   "source": [
    "y_train.describe()"
   ],
   "metadata": {
    "collapsed": false,
    "pycharm": {
     "name": "#%%\n",
     "is_executing": true
    }
   }
  },
  {
   "cell_type": "code",
   "execution_count": 11,
   "outputs": [
    {
     "data": {
      "text/plain": "80"
     },
     "execution_count": 11,
     "metadata": {},
     "output_type": "execute_result"
    }
   ],
   "source": [
    "x_train.iloc[0,0]\n"
   ],
   "metadata": {
    "collapsed": false,
    "pycharm": {
     "name": "#%%\n"
    }
   }
  },
  {
   "cell_type": "code",
   "execution_count": 12,
   "outputs": [
    {
     "data": {
      "text/plain": "numpy.int64"
     },
     "execution_count": 12,
     "metadata": {},
     "output_type": "execute_result"
    }
   ],
   "source": [
    "type(x_train.iloc[0,0])"
   ],
   "metadata": {
    "collapsed": false,
    "pycharm": {
     "name": "#%%\n"
    }
   }
  },
  {
   "cell_type": "code",
   "execution_count": 13,
   "outputs": [],
   "source": [
    "x_train = x_train.iloc[:, [6,8,53,68,3,63,66]]\n",
    "x_test = x_test.iloc[:, [6,8,53,68,3,63,66]]"
   ],
   "metadata": {
    "collapsed": false,
    "pycharm": {
     "name": "#%%\n"
    }
   }
  },
  {
   "cell_type": "code",
   "execution_count": null,
   "outputs": [],
   "source": [
    "x_train\n",
    "x_test"
   ],
   "metadata": {
    "collapsed": false,
    "pycharm": {
     "name": "#%%\n",
     "is_executing": true
    }
   }
  },
  {
   "cell_type": "code",
   "execution_count": null,
   "outputs": [],
   "source": [
    "print(x_test)"
   ],
   "metadata": {
    "collapsed": false,
    "pycharm": {
     "name": "#%%\n"
    }
   }
  },
  {
   "cell_type": "code",
   "execution_count": null,
   "outputs": [],
   "source": [
    "'''from sklearn import svm\n",
    "\n",
    "clf = svm.SVC(C=0.8, kernel='rbf', gamma=20, decision_function_shape='ovo')\n",
    "clf.fit(x_train, y_train.values.ravel())'''"
   ],
   "metadata": {
    "collapsed": false,
    "pycharm": {
     "name": "#%%\n",
     "is_executing": true
    }
   }
  },
  {
   "cell_type": "code",
   "execution_count": null,
   "outputs": [],
   "source": [],
   "metadata": {
    "collapsed": false,
    "pycharm": {
     "name": "#%%\n",
     "is_executing": true
    }
   }
  },
  {
   "cell_type": "code",
   "execution_count": null,
   "outputs": [],
   "source": [],
   "metadata": {
    "collapsed": false,
    "pycharm": {
     "name": "#%%\n"
    }
   }
  }
 ],
 "metadata": {
  "kernelspec": {
   "display_name": "Python 3",
   "language": "python",
   "name": "python3"
  },
  "language_info": {
   "codemirror_mode": {
    "name": "ipython",
    "version": 2
   },
   "file_extension": ".py",
   "mimetype": "text/x-python",
   "name": "python",
   "nbconvert_exporter": "python",
   "pygments_lexer": "ipython2",
   "version": "2.7.6"
  }
 },
 "nbformat": 4,
 "nbformat_minor": 0
}